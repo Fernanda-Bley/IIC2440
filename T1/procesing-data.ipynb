{
 "cells": [
  {
   "cell_type": "code",
   "execution_count": 1,
   "id": "61a6fb78",
   "metadata": {},
   "outputs": [],
   "source": [
    "# Está celda se puede descomentar en caso de que no esté instalado alguno de las \n",
    "# librerías necesarias\n",
    "# !pip install pandasql; pip install pandas"
   ]
  },
  {
   "cell_type": "code",
   "execution_count": 2,
   "id": "9791fe98",
   "metadata": {},
   "outputs": [],
   "source": [
    "from collections import Counter\n",
    "import re\n",
    "import numpy as np\n",
    "import pandas as pd\n",
    "import pandasql as psql"
   ]
  },
  {
   "cell_type": "markdown",
   "id": "a65b1c91",
   "metadata": {},
   "source": [
    "<center>\n",
    "    <img src=\"https://i.ibb.co/8DB9xryv/portada-t1.png\" alt=\"portada-t1\" border=\"0\" />\n",
    "</center>"
   ]
  },
  {
   "cell_type": "markdown",
   "id": "7c65672c",
   "metadata": {},
   "source": [
    "# Parte 1\n",
    "\n",
    "Como queremos saber de qué se habla en el Congreso, lo primero es mirar a los .csv llamados participacion descripcion. Hay una columna llamada TEXTO_PRINCIPAL y otra llamada\n",
    "DESCRIPCION_DEBATE\t, en las que se nos señala sobre qué habló un parlamentario en un momento determinado. La idea es que partas etiquetando los datos: para cada intervención nos interesa tener una o\n",
    "más keyword que nos señala qué TEMAS se trató. Algunos ejemplos pueden ser “deportes”, “delincuencia”,\n",
    "“medio ambiente”, FECHA entre otros. Además, si encuentras que los datos están sucios o necesitas hacer otro\n",
    "procesamiento, puedes hacerlo.\n",
    "Para la obtención de keywords puedes hacer lo que tú quieras, desde ver si el TEXTO_PRINCIPAL contiene\n",
    "una palabra definida por ti, hasta correr un modelo de lenguaje que lea automáticamente la intervención\n",
    "y obtenga keywords. En el futuro vas a tener que agrupar por estos tópicos, por lo que es importante que\n",
    "cada tópico se identifique únicamente. Por ejemplo, puedes tener problemas si tienes la keyword “deporte”\n",
    "y también “deportes”."
   ]
  },
  {
   "cell_type": "code",
   "execution_count": 3,
   "id": "411fcbb0",
   "metadata": {},
   "outputs": [],
   "source": [
    "# Se puede cambiar los path a sus archivos, pero estos se conectan a donde los tengo guardados en mi repositorio\n",
    "\n",
    "path_to_2023_1 = 'https://raw.githubusercontent.com/Fernanda-Bley/IIC2440/refs/heads/main/T1/participacion/participacion/participacion_descripcion_2023_1.csv'\n",
    "path_to_2023_2 = 'https://raw.githubusercontent.com/Fernanda-Bley/IIC2440/refs/heads/main/T1/participacion/participacion/participacion_descripcion_2023_2.csv'\n",
    "path_to_2024 = 'https://raw.githubusercontent.com/Fernanda-Bley/IIC2440/refs/heads/main/T1/participacion/participacion/participacion_descripcion_2024.csv'\n",
    "path_to_info = 'https://raw.githubusercontent.com/Fernanda-Bley/IIC2440/refs/heads/main/T1/participacion/participacion/parlamentarios_info_general.csv'\n",
    "\n",
    "descripcion_2023_1 = pd.read_csv(path_to_2023_1)\n",
    "descripcion_2023_2 = pd.read_csv(path_to_2023_2)\n",
    "descripcion_2024 = pd.read_csv(path_to_2024)\n",
    "info_parlamento = pd.read_csv(path_to_info)"
   ]
  },
  {
   "cell_type": "code",
   "execution_count": 4,
   "id": "40ec99d4",
   "metadata": {},
   "outputs": [],
   "source": [
    "# Vamos a recuperar solo las columnas que queremos estudiar, para eso definimos queries\n",
    "\n",
    "first2023 = \"\"\"\n",
    "SELECT TIPO_SESION, TIPO_PARTICIPACION, CAMARA, TEXTO_PRINCIPAL, TEXTO_ANTECEDENTE, DESCRIPCION_DEBATE\n",
    "FROM descripcion_2023_1\n",
    "\"\"\"\n",
    "\n",
    "second2023 = \"\"\"\n",
    "SELECT TIPO_SESION, TIPO_PARTICIPACION, CAMARA, TEXTO_PRINCIPAL, TEXTO_ANTECEDENTE, DESCRIPCION_DEBATE\n",
    "FROM descripcion_2023_2\n",
    "\"\"\"\n",
    "\n",
    "all2024 = \"\"\"\n",
    "SELECT TIPO_SESION, TIPO_PARTICIPACION, CAMARA, TEXTO_PRINCIPAL, TEXTO_ANTECEDENTE, DESCRIPCION_DEBATE\n",
    "FROM descripcion_2024\n",
    "\"\"\"\n",
    "\n"
   ]
  },
  {
   "cell_type": "code",
   "execution_count": 5,
   "id": "5cbb7a2e",
   "metadata": {},
   "outputs": [
    {
     "data": {
      "text/plain": [
       "0        La señora ALLENDE.- \\nGracias, Presidente. \\nH...\n",
       "1        La señora ALLENDE.- \\nGracias, Presidente. \\nC...\n",
       "2        La señora ALLENDE.- \\nGracias, Presidente. \\nP...\n",
       "3        La señora ALLENDE.- \\nPresidente , yo le pedí ...\n",
       "4        La señora ALLENDE.- \\nPresidente, como ha seña...\n",
       "                               ...                        \n",
       "21866    El señor CIFUENTES (Presidente).- \\n \\n Corres...\n",
       "21867    La Diputada Yeomans (Presidenta) reconoció la ...\n",
       "21868    -DiputadaYeomans ,   doña Gael . Acciones dest...\n",
       "21869    -DiputadaYeomans ,   doña Gael . Acciones dest...\n",
       "21870    El señor CIFUENTES (Presidente).- \\n \\n Corres...\n",
       "Name: TEXTO_PRINCIPAL, Length: 21871, dtype: object"
      ]
     },
     "execution_count": 5,
     "metadata": {},
     "output_type": "execute_result"
    }
   ],
   "source": [
    "psql.sqldf(all2024)[\"TEXTO_PRINCIPAL\"]"
   ]
  },
  {
   "cell_type": "markdown",
   "id": "3b023702",
   "metadata": {},
   "source": [
    "Investiguemos ``¿Cuales son los problemas de los que más se hablan cada año?``\n",
    "Para filtrar las palabras comunes crearemos un filtro que incluya temas de las que más se hablan en el senado según el informe de [Febrero 2023](https://www.senado.cl/comunicaciones/noticias/pulso-legislativo-271-proyectos-despachados-y-casi-1300-sesiones-de-sala-y) y [Enero 2025](https://www.senado.cl/comunicaciones/noticias/los-temas-que-vienen-comisiones-retoman-su-trabajo-con-intensa-agenda-de): ``seguridad, crímenes, elecciones, pensiones, vivienda, impuestos, salud, educación, transporte, economía, inflación, COVID-19 y medio ambiente``"
   ]
  },
  {
   "cell_type": "code",
   "execution_count": 6,
   "id": "c366cfe2",
   "metadata": {},
   "outputs": [],
   "source": [
    "# Creamos esta función para que nos retorne los temas más comunes\n",
    "def CommonSubjects(DataSet):\n",
    "    filtros = [\"pensión\", \"elecciones\", \"crímenes\", \"vivienda\", \"impuestos\",\"combustibles\", \"seguridad\", \"salud\", \"educación\", \"transporte\", \"economía\", \"inflación\", \"COVID-19\", \"medio ambiente\"]\n",
    "    text_column = 'TEXTO_PRINCIPAL'\n",
    "    all_text = ' '.join(psql.sqldf(DataSet)[text_column].astype(str))\n",
    "    \n",
    "    words = re.findall(r'\\w+', all_text.lower())\n",
    "    word_counts = Counter(words)\n",
    "    \n",
    "    \n",
    "    subjects = {key: value for key, value in word_counts.items() if key in filtros}\n",
    "    top_subjects = dict(sorted(subjects.items(), key=lambda item: item[1], reverse=True))\n",
    "\n",
    "    return top_subjects"
   ]
  },
  {
   "cell_type": "code",
   "execution_count": 7,
   "id": "ad439ce2",
   "metadata": {},
   "outputs": [],
   "source": [
    "# Por el tamaño de los dataset, se demora aprox 10 segundos en correr\n",
    "common_subjects = [CommonSubjects(first2023), CommonSubjects(second2023), CommonSubjects(all2024)]\n",
    "years = [\"2023-1\", \"2023-2\", \"2024\"]"
   ]
  },
  {
   "cell_type": "code",
   "execution_count": 8,
   "id": "b67282a9",
   "metadata": {},
   "outputs": [
    {
     "name": "stdout",
     "output_type": "stream",
     "text": [
      "En el periodo 2023-1 los TEMASSSs más comunes fueron:\n",
      " seguridad, salud, educación, vivienda, impuestos, transporte, economía, pensión, inflación, combustibles, crímenes, elecciones\n",
      "En el periodo 2023-2 los TEMASSSs más comunes fueron:\n",
      " salud, seguridad, educación, vivienda, transporte, economía, crímenes, impuestos, pensión, elecciones, combustibles, inflación\n",
      "En el periodo 2024 los TEMASSSs más comunes fueron:\n",
      " seguridad, salud, educación, transporte, vivienda, economía, impuestos, elecciones, pensión, crímenes, combustibles, inflación\n"
     ]
    }
   ],
   "source": [
    "for year, common in zip(years, common_subjects):\n",
    "    print(f\"En el periodo {year} los TEMASSSs más comunes fueron:\\n\", \", \".join(list(common.keys())))"
   ]
  },
  {
   "cell_type": "markdown",
   "id": "4686cc24",
   "metadata": {},
   "source": [
    "Los temas se mantienen de manera consistente así que mantendré estas *keywords*: \n",
    "``seguridad, salud, educación, transporte, vivienda, economía, elecciones, pensión, crímenes, combustibles, inflación``"
   ]
  },
  {
   "cell_type": "markdown",
   "id": "cb9db892",
   "metadata": {},
   "source": [
    "# Parte 2 - [1 pts] - Modelamiento\n",
    "Para la modelación, queremos que entiendas las entidades y tengas presente las consultas que vas a\n",
    "realizar. Primero, queremos partir de un diagrama normalizado que tenga separado las distintas entidades, que serı́an los parlamentarios, partidos polı́ticos, debates, intervenciones, y las keywords que calculaste. Una vez contar con un modelo normalizado, puedes crear las vistas que estimes convenientes.\n",
    "\n",
    "Luego, ten presente que harás las siguientes consultas:\n",
    "- Cuáles son las top 5 temáticas más tratadas, para cada mes en el que hay registros.\n",
    "- Media móvil de intervenciones por partido polı́tico con un intervalo de 3 meses.\n",
    "- Para cada trimestre, ver el TEMAS principal tratado por cada partido polı́tico.\n",
    "- Poder pararse en un mes y ver cuál es el top 3 de temáticas tratada por cada partido. Esto vas a querer repetirlo para algunos meses."
   ]
  },
  {
   "cell_type": "code",
   "execution_count": 9,
   "id": "efd6ec78",
   "metadata": {},
   "outputs": [],
   "source": [
    "# Los parlamentarios, debates e intervenciones.\n",
    "\n",
    "first2023 = \"\"\"\n",
    "SELECT PARLAMENTARIO_ID, TIPO_SESION, FECHA, TIPO_PARTICIPACION, TEXTO_PRINCIPAL, TEXTO_ANTECEDENTE, DESCRIPCION_DEBATE\n",
    "FROM descripcion_2023_1\n",
    "\"\"\"\n",
    "\n",
    "second2023 = \"\"\"\n",
    "SELECT PARLAMENTARIO_ID, TIPO_SESION, FECHA, TIPO_PARTICIPACION, TEXTO_PRINCIPAL, TEXTO_ANTECEDENTE, DESCRIPCION_DEBATE\n",
    "FROM descripcion_2023_2\n",
    "\"\"\"\n",
    "\n",
    "all2024 = \"\"\"\n",
    "SELECT PARLAMENTARIO_ID, TIPO_SESION, FECHA, TIPO_PARTICIPACION, TEXTO_PRINCIPAL, TEXTO_ANTECEDENTE, DESCRIPCION_DEBATE\n",
    "FROM descripcion_2024\n",
    "\"\"\"\n",
    "\n",
    "parlamento = \"\"\"\n",
    "SELECT PARLAMENTARIO_ID, PARTIDO_POLITICO\n",
    "FROM info_parlamento\n",
    "\"\"\"\n",
    "\n",
    "f2023_1 = psql.sqldf(first2023)\n",
    "s2023_1 = psql.sqldf(second2023)\n",
    "a2024 = psql.sqldf(all2024)\n",
    "id_politico = psql.sqldf(parlamento)"
   ]
  },
  {
   "cell_type": "code",
   "execution_count": 10,
   "id": "03575afd",
   "metadata": {},
   "outputs": [],
   "source": [
    "# Añadir: keyword, meses, trimestres y partidos polı́ticos.\n",
    "\n",
    "# keyword\n",
    "def assign_subject(text, filtros):\n",
    "    # Convertir el texto a minúsculas y dividir en palabras\n",
    "    words = re.findall(r'\\w+', text.lower())\n",
    "    # Encontrar los temas que están en el texto usando un conjunto para evitar duplicados\n",
    "    found_subjects = set(word for word in words if word in filtros)\n",
    "    # Retornar los temas encontrados como lista o None si no hay ninguno\n",
    "    return list(found_subjects) if found_subjects else \"otros\"\n",
    "\n",
    "# trimestre\n",
    "def asignar_trimestre(mes):\n",
    "    if 1 <= mes <= 4:\n",
    "        return 1  \n",
    "    elif 5 <= mes <= 8:\n",
    "        return 2\n",
    "    elif 9 <= mes <= 12:\n",
    "        return 3\n",
    "    \n",
    "# Añadir partido político\n",
    "f2023_1_with_party = psql.sqldf(\"\"\"\n",
    "SELECT f.*, p.PARTIDO_POLITICO\n",
    "FROM f2023_1 f\n",
    "LEFT JOIN id_politico p ON f.PARLAMENTARIO_ID = p.PARLAMENTARIO_ID\n",
    "\"\"\")\n",
    "\n",
    "\n",
    "s2023_1_with_party = psql.sqldf(\"\"\"\n",
    "SELECT s.*, p.PARTIDO_POLITICO\n",
    "FROM s2023_1 s\n",
    "LEFT JOIN id_politico p ON s.PARLAMENTARIO_ID = p.PARLAMENTARIO_ID\n",
    "\"\"\")\n",
    "\n",
    "\n",
    "a2024_with_party = psql.sqldf(\"\"\"\n",
    "SELECT a.*, p.PARTIDO_POLITICO\n",
    "FROM a2024 a\n",
    "LEFT JOIN id_politico p ON a.PARLAMENTARIO_ID = p.PARLAMENTARIO_ID\n",
    "\"\"\")"
   ]
  },
  {
   "cell_type": "code",
   "execution_count": 11,
   "id": "27aba8ca",
   "metadata": {},
   "outputs": [],
   "source": [
    "## Se demora 8 segundos aprox para que corra el código\n",
    "# Definir los filtros\n",
    "filtros = [\"seguridad\", \"salud\", \"educación\", \"transporte\", \"vivienda\", \"economía\", \"elecciones\", \"pensión\", \"crímenes\", \"combustibles\", \"inflación\"]\n",
    "\n",
    "# Añadiendo keywords\n",
    "f2023_1_with_party['TEMAS'] = f2023_1_with_party['TEXTO_PRINCIPAL'].apply(lambda x: assign_subject(x, filtros))\n",
    "s2023_1_with_party['TEMAS'] = s2023_1_with_party['TEXTO_PRINCIPAL'].apply(lambda x: assign_subject(x, filtros))\n",
    "a2024_with_party['TEMAS'] = a2024_with_party['TEXTO_PRINCIPAL'].apply(lambda x: assign_subject(x, filtros))\n",
    "\n",
    "# Añadiendo meses\n",
    "f2023_1_with_party[\"MES\"] = pd.to_datetime(f2023_1_with_party[\"FECHA\"]).dt.month_name()\n",
    "s2023_1_with_party[\"MES\"] = pd.to_datetime(s2023_1_with_party[\"FECHA\"]).dt.month_name()\n",
    "a2024_with_party[\"MES\"] = pd.to_datetime(a2024_with_party[\"FECHA\"]).dt.month_name()\n",
    "\n",
    "# Añadiendo trimestres\n",
    "f2023_1_with_party[\"TRIMESTRE\"] = pd.to_datetime(f2023_1_with_party['FECHA']).dt.month.apply(lambda x: asignar_trimestre(x))\n",
    "s2023_1_with_party[\"TRIMESTRE\"] = pd.to_datetime(s2023_1_with_party['FECHA']).dt.month.apply(lambda x: asignar_trimestre(x))\n",
    "a2024_with_party[\"TRIMESTRE\"] = pd.to_datetime(a2024_with_party['FECHA']).dt.month.apply(lambda x: asignar_trimestre(x))\n",
    "\n"
   ]
  },
  {
   "cell_type": "code",
   "execution_count": 12,
   "id": "d94b42e7",
   "metadata": {},
   "outputs": [],
   "source": [
    "# Vamos a quedarnos a unir todo con las columnas que nos sirven y exportamos los csv\n",
    "\n",
    "unidos = pd.concat([f2023_1_with_party, s2023_1_with_party], ignore_index=True)\n",
    "unidos[['PARTIDO_POLITICO', 'TEMAS', 'MES', 'TRIMESTRE']].to_csv('total_2023.csv', index=False)\n",
    "a2024_with_party[['PARTIDO_POLITICO', 'TEMAS', 'MES', 'TRIMESTRE']].to_csv('total_2024.csv', index=False)"
   ]
  }
 ],
 "metadata": {
  "kernelspec": {
   "display_name": "Python 3",
   "language": "python",
   "name": "python3"
  },
  "language_info": {
   "codemirror_mode": {
    "name": "ipython",
    "version": 3
   },
   "file_extension": ".py",
   "mimetype": "text/x-python",
   "name": "python",
   "nbconvert_exporter": "python",
   "pygments_lexer": "ipython3",
   "version": "3.12.1"
  }
 },
 "nbformat": 4,
 "nbformat_minor": 5
}
